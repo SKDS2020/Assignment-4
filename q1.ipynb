{
 "cells": [
  {
   "cell_type": "markdown",
   "metadata": {},
   "source": [
    "# bounded_subsets\n",
    "\n",
    "Args:\n",
    "    S (list): List of positive integers numbers\n",
    "    c (int): the maximum sum of each permutation\n",
    "Returns:\n",
    "    int: All possible permutations of listS that their elements sum is lower or equal to c\n"
   ]
  },
  {
   "cell_type": "code",
   "execution_count": 62,
   "metadata": {},
   "outputs": [
    {
     "name": "stdout",
     "output_type": "stream",
     "text": [
      "[]\n",
      "[1]\n",
      "[1, 2]\n",
      "[1, 3]\n",
      "[2]\n",
      "[3]\n"
     ]
    }
   ],
   "source": [
    "\n",
    "def bounded_subsets(S, c, subset_sum=0, subset=[]):\n",
    "\n",
    "    if subset_sum > c:\n",
    "        return\n",
    "  \n",
    "    else:  #subset_sum< c\n",
    "        yield subset\n",
    "        \n",
    "\n",
    "    for index, element in enumerate(S): # add an index for every element in the subset\n",
    "        #if subset_sum+element is c:\n",
    "        #    return subset+[element]\n",
    "        rlst= S[index+1:]\n",
    "        yield from bounded_subsets(rlst, c, subset_sum+element, subset+[element])\n",
    "\n",
    "for s in bounded_subsets([1,2,3], 4):\n",
    "    print(s) # prints: [], [1], [2], [3], [1,2], [1,3].\n"
   ]
  }
 ],
 "metadata": {
  "interpreter": {
   "hash": "e5d5a56d41597a5041a8174412e7502d6a3b98c481140ca9b60e3ddca47f8602"
  },
  "kernelspec": {
   "display_name": "Python 3.7.4 ('base')",
   "language": "python",
   "name": "python3"
  },
  "language_info": {
   "codemirror_mode": {
    "name": "ipython",
    "version": 3
   },
   "file_extension": ".py",
   "mimetype": "text/x-python",
   "name": "python",
   "nbconvert_exporter": "python",
   "pygments_lexer": "ipython3",
   "version": "3.7.4"
  },
  "orig_nbformat": 4
 },
 "nbformat": 4,
 "nbformat_minor": 2
}
